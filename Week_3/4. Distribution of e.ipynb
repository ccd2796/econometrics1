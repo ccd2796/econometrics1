{
 "cells": [
  {
   "cell_type": "markdown",
   "id": "2bbff01b",
   "metadata": {},
   "source": [
    "### Distribution of e ###"
   ]
  },
  {
   "cell_type": "markdown",
   "id": "de37b2ee",
   "metadata": {},
   "source": [
    "Recall that $e$ can be constructed from $y$ by projecting it using the $M$ matrix, with $rank(M)=n-k$ (note the use of $\\stackrel{\\text{A*}}{=}$ to highlight the assumption used)\n",
    "\n",
    "$$ e = My \\stackrel{\\text{A6}}{=} M(X\\beta + \\epsilon) = (I-H) X\\beta + M\\epsilon $$\n",
    "\n",
    "Naturally, projecting $X$ on its own column space will yield $X$\n",
    "\n",
    "$$ e = (X-X)\\beta + M\\epsilon = M\\epsilon $$\n",
    "\n",
    "This means that, under assumption 6, the residual vector is a projection of the disturbances. This space has $n-k$ degrees of freedom.\n",
    "\n",
    "Furthermore, using assumption 2-4, and 7:\n",
    "\n",
    "$$\\epsilon \\sim N_n(0, \\sigma^2I_n) $$\n",
    "\n",
    "$$ e = M\\epsilon \\sim N_n(0, \\sigma^2M) $$\n",
    "\n",
    "The residual vector $e$ follows a degenerate normal distribution, so we cannot work with this. However, we can find a distribution for the squared norm of this vector. Using previous results:\n",
    "\n",
    "$$ \\frac{\\epsilon}{\\sigma} \\sim N_n(0, I_n)  $$\n",
    "\n",
    "\n",
    "$$ e^Te = (M\\epsilon)^TM\\epsilon = \\epsilon^T M \\epsilon $$\n",
    "\n",
    "Dividing both sides by $\\sigma^2$\n",
    "\n",
    "$$ \\frac{e^Te}{\\sigma^2} = \\frac{\\epsilon}{\\sigma}^TM\\frac{\\epsilon}{\\sigma} \\sim \\chi^2(n-k) \\quad \\text{, given that $rank(M)=n-k$} $$\n",
    "\n",
    "Then, $\\frac{e^Te}{\\sigma^2}$ follows a $ \\chi^2(n-k)$ distribution. Recall that the expected value of a Chi squared distribution with $r$ degrees of freedom is $r$ \n",
    "\n",
    "$$ E\\Bigg[ \\frac{e^Te}{\\sigma^2}   \\Bigg] = n-k $$\n",
    "\n",
    "$$ E\\Bigg[ \\frac{e^Te}{n-k}   \\Bigg] = \\sigma^2 $$\n",
    "\n",
    "An unbiased estimator of $\\sigma^2$ is $s^2 = \\frac{\\sum_n e_i^2}{n-k} = \\frac{e^Te}{n-k}$, the sample variance of the residuals, adjusted by $n-k$ degrees of freedom. This also could be seen as the squared norm of the residuals vector, rescaled by its degrees of freedom.\n"
   ]
  },
  {
   "cell_type": "code",
   "execution_count": null,
   "id": "e321f65c",
   "metadata": {},
   "outputs": [],
   "source": []
  }
 ],
 "metadata": {
  "kernelspec": {
   "display_name": "Python 3 (ipykernel)",
   "language": "python",
   "name": "python3"
  },
  "language_info": {
   "codemirror_mode": {
    "name": "ipython",
    "version": 3
   },
   "file_extension": ".py",
   "mimetype": "text/x-python",
   "name": "python",
   "nbconvert_exporter": "python",
   "pygments_lexer": "ipython3",
   "version": "3.11.5"
  }
 },
 "nbformat": 4,
 "nbformat_minor": 5
}
