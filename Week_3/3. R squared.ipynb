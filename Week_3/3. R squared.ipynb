{
 "cells": [
  {
   "cell_type": "markdown",
   "id": "8ed42298",
   "metadata": {},
   "source": [
    "### R squared ###"
   ]
  },
  {
   "cell_type": "markdown",
   "id": "d073f0ba",
   "metadata": {},
   "source": [
    "Decomposing the explained variance of $y$. We can find the sum of squares of $y$ by using the projection matrix $P = I - \\frac{ii^T}{i^Ti} $ that calculates the mean deviated vector $y - \\bar{y}$. The sum of squares of $y$ will be:\n",
    "\n",
    "$$\\sum_n (y_i-\\bar{y})^2 = y^T P y $$\n",
    "\n",
    "$$y = Xb + e $$\n",
    "\n",
    "$$y^TPy = (Xb + e)^TP(Xb + e) $$\n",
    "\n",
    "Recall that OLS imposes that $X^Te = 0$\n",
    "\n",
    "$$y^TPy = b^TX^TPXb + e^TPe $$\n",
    "\n",
    "Important names to remember:\n",
    "\n",
    "- $y^TPy$ is **SST**: Sum of Squares Total.\n",
    "\n",
    "- $b^TX^TPXb$ is **SSE**: Sum of Squares Explained.\n",
    "\n",
    "- $e^TPe$ is **SSR**: Sum of Squares Residual.\n",
    "\n",
    "If the model includes an intercept (one column of $X$ is ones), then $\\bar{e}=0$ and $SSR = e^Te$\n",
    "\n",
    "Expressing the explained variance as a fraction of $SST$, and with $R^2=\\frac{SSE}{SST}$, this is, the fraction of the variance of $y$ that can be explained by the regressors.\n",
    "\n",
    "$$1 = \\frac{SSE}{SST} + \\frac{SSR}{SST} = \\frac{SSE}{SST} + \\frac{e^Te}{SST} $$\n",
    "\n",
    "\n",
    "$$R^2=1 - \\frac{e^Te}{SST}$$\n",
    "\n",
    "Extreme cases: \n",
    "\n",
    "if $X_{n \\times 1}$ consists of a single column of ones:\n",
    "\n",
    "$$y = i b + e \\quad \\text{, and $b = \\bar{y}$, $\\bar{e}=0$}$$\n",
    "\n",
    "$$y - \\bar{y}= e \\quad \\text{, then $SST=SSR$ and $R^2=0$}$$\n",
    "\n",
    "if $X_{n \\times n}$ has $n$ regressors and is full rank:\n",
    "\n",
    "$$b = (X^TX)^{-1}X^Ty = X^{-1}y$$\n",
    "\n",
    "$$Xb = XX^{-1}y = y \\quad \\text{, then $e=y-Xb=0$ and $SSR=0$, $R^2=1$}$$\n"
   ]
  },
  {
   "cell_type": "code",
   "execution_count": null,
   "id": "0ae9bfca",
   "metadata": {},
   "outputs": [],
   "source": []
  }
 ],
 "metadata": {
  "kernelspec": {
   "display_name": "Python 3 (ipykernel)",
   "language": "python",
   "name": "python3"
  },
  "language_info": {
   "codemirror_mode": {
    "name": "ipython",
    "version": 3
   },
   "file_extension": ".py",
   "mimetype": "text/x-python",
   "name": "python",
   "nbconvert_exporter": "python",
   "pygments_lexer": "ipython3",
   "version": "3.11.5"
  }
 },
 "nbformat": 4,
 "nbformat_minor": 5
}
