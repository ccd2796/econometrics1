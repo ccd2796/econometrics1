{
 "cells": [
  {
   "cell_type": "markdown",
   "id": "cbc0cfee",
   "metadata": {},
   "source": [
    "A Chi Squared distribution with $n$ degrees of freedom is defined as the sum of the squares of $n$ standard normal uncorrelated random variables\n",
    "\n",
    "$$ x_i \\sim N(0, 1)$$\n",
    "\n",
    "\\begin{equation}\n",
    "x = \\begin{pmatrix}\n",
    "x_1 \\\\\n",
    "x_2 \\\\\n",
    "\\vdots \\\\\n",
    "x_n\n",
    "\\end{pmatrix} \\sim N_n(0, I_n)\n",
    "\\end{equation}\n",
    "\n",
    "$$Q = \\sum_n x_i^2 = x^T x = x^T I_n x = \\|x\\|^2 \\quad \\text{and $\\; Q \\sim \\chi^2(n)$} $$\n",
    "\n",
    "Consider a projection matrix $P$ with $rank(P)=r < n$. From the previous conclusion we note that $P=VV^T$ where $V_{n \\times r}$ is the matrix with the eigenvectors from $P$ associated with non null eigenvalues.\n",
    "\n",
    "\n",
    "Define  $z_{r\\times 1} = V^T x_{n \\times 1}$. What's its distribution?\n",
    "\n",
    "\n",
    "$$ z = V^Tx \\sim N(0, V^TV) = N_r(0, I_r) $$\n",
    "\n",
    "\n",
    "Because $z$ comes form a $r$-dimensional standard multivariate normal distribution, **$z^Tz$ has a $\\chi^2(r) $ distribution**\n",
    "\n",
    "\n",
    "$$ z^Tz = x^TVV^Tx = x^TPx = x^TP^TPx = \\|Px\\|^2 \\sim \\chi^2(r) $$\n",
    "\n",
    "When a vector is projected on an lower dimensional space, some information is lost. If this vector is random, the lower variability imposed on the elements of the projected vector will make its norm likely smaller.\n",
    "\n",
    "Be careful when trying to find the distribution of the projected vector\n",
    "\n",
    "$$ Px \\sim N(0, P^TP) = N_n(0, P) $$\n",
    "\n",
    "This is a degenerate multivariate normal distribution, $P$ is not full rank, therefore the covariance matrix is not positive definite.\n",
    "\n",
    "\n",
    "***\n",
    "**Conclusion:**\n",
    "\n",
    "Consider an $n$-dimensional standard multivariate distribution $x$ and a projection matrix $P$ with $rank(P)=r$.\n",
    "\n",
    "The distribution of $x^TPx = \\|Px\\|^2 $ is Chi squared with $r$ degrees of freedom."
   ]
  },
  {
   "cell_type": "code",
   "execution_count": null,
   "id": "55a124e7",
   "metadata": {},
   "outputs": [],
   "source": []
  }
 ],
 "metadata": {
  "kernelspec": {
   "display_name": "Python 3 (ipykernel)",
   "language": "python",
   "name": "python3"
  },
  "language_info": {
   "codemirror_mode": {
    "name": "ipython",
    "version": 3
   },
   "file_extension": ".py",
   "mimetype": "text/x-python",
   "name": "python",
   "nbconvert_exporter": "python",
   "pygments_lexer": "ipython3",
   "version": "3.11.5"
  }
 },
 "nbformat": 4,
 "nbformat_minor": 5
}
