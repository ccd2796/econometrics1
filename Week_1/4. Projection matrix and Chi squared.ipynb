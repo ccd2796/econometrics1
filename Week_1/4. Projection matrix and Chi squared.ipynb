{
 "cells": [
  {
   "cell_type": "markdown",
   "id": "d5646e1c",
   "metadata": {},
   "source": [
    "Matrix $Q_{n\\times n}$ is symmetric and idempotent: This is called a **projection** matrix.\n",
    "\n",
    "Because symmetry: Eigenvalues are real and eigenvector matrix is orthogonal. Then the spectral decomposition is\n",
    "\n",
    "$$ Q = V \\Lambda V^{T} $$\n",
    "\n",
    "Because idempotent Eigenvalues are either 0 or 1:\n",
    "$$ Q = Q\\times Q $$\n",
    "\n",
    "$$ Q = V \\Lambda V^{T} =  Q\\times Q  = V \\Lambda^2 V^{T}  $$\n",
    "\n",
    "$$ \\lambda_{i} = \\lambda_{i}^{2} \\rightarrow \\lambda_i = 0, 1 $$\n",
    "\n",
    "\n",
    "We can see this as a linear transformation of a vector that \"projects\" it to a certain space, so transforming again will yield the same vector. Some information is lost (null space). Which information is preserved? **The eigenvectors related to $\\lambda=1$**. \n",
    "\n",
    "By definition, the resulting space of a linear transformation (in this case, projection) has dimension $k \\leq n$, the rank of $Q$. There is a relationship between $rank(Q)$ and $\\lambda$:\n",
    "\n",
    "$$Tr(Q) = Tr(V \\Lambda V^{T}) = Tr( V^{T} V \\Lambda ) = Tr( I \\Lambda ) = \\sum_i \\lambda_i $$\n",
    "\n",
    "Because $\\lambda$ is only 0 or 1, the sum counts the number of dimensions preserved by the transformation. Then, for a projection matrix $Q$:\n",
    "\n",
    "$$ rank(Q) = Tr(Q) $$\n",
    "\n",
    "We can further work with the spectral decomposition:\n",
    "\n",
    "$$  Q = V \\Lambda V^{T}  $$\n",
    "\n",
    "If $Tr(Q)=r$, this means there are $r$ eigenvalues equal to 1, the rest are 0. The spectral decomposition can be rewritten to ignore the columns of the eigenvector matrix that are going to be cancelled by the null eigenvalues. \n",
    "\n",
    "Let $V_r$ be the $n\\times r$ matrix that has as columns the $r$ eigenvectors associated with 1 eigenvectors:\n",
    "\n",
    "$$ Q =V \\Lambda V^{T} = V_r \\Lambda_r V_r^T =  V_r I_r V_r^T =  V_r V_r^T$$\n",
    "\n",
    "Conclusion "
   ]
  },
  {
   "cell_type": "code",
   "execution_count": null,
   "id": "fbee49bd",
   "metadata": {},
   "outputs": [],
   "source": []
  }
 ],
 "metadata": {
  "kernelspec": {
   "display_name": "Python 3 (ipykernel)",
   "language": "python",
   "name": "python3"
  },
  "language_info": {
   "codemirror_mode": {
    "name": "ipython",
    "version": 3
   },
   "file_extension": ".py",
   "mimetype": "text/x-python",
   "name": "python",
   "nbconvert_exporter": "python",
   "pygments_lexer": "ipython3",
   "version": "3.11.5"
  }
 },
 "nbformat": 4,
 "nbformat_minor": 5
}
