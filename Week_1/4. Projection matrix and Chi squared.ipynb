{
 "cells": [
  {
   "cell_type": "markdown",
   "id": "d5646e1c",
   "metadata": {},
   "source": [
    "### 1. Projection matrices ###"
   ]
  },
  {
   "cell_type": "markdown",
   "id": "a0637cc6",
   "metadata": {},
   "source": [
    "Let $Q_{n\\times n}$ be a matrix that is symmetric and idempotent: This is called a **projection** matrix.\n",
    "\n",
    "Because of symmetry: Eigenvalues are real and eigenvector matrix is orthogonal. Then the spectral decomposition is\n",
    "\n",
    "$$ Q = V \\Lambda V^{T} $$\n",
    "\n",
    "Because it is idempotent: Eigenvalues are either 0 or 1.\n",
    "$$ Q = Q\\times Q $$\n",
    "\n",
    "$$ Q = V \\Lambda V^{T} =  Q\\times Q  = V \\Lambda^2 V^{T}  $$\n",
    "\n",
    "$$ \\lambda_{i} = \\lambda_{i}^{2} \\rightarrow \\lambda_i = 0, 1 $$\n",
    "\n",
    "***\n",
    "\n",
    "We can see this as a linear transformation of a vector that \"projects\" it to a certain space, so transforming again will yield the same vector. Some information is lost (null space). Which information is preserved? **The eigenvectors related to $\\lambda=1$**. \n",
    "\n",
    "By definition, the resulting space of a linear transformation (in this case, projection) has dimension $k \\leq n$, the rank of $Q$. There is a relationship between $rank(Q)$ and $\\lambda$:\n",
    "\n",
    "$$Tr(Q) = Tr(V \\Lambda V^{T}) = Tr( V^{T} V \\Lambda ) = Tr( I \\Lambda ) = \\sum_i \\lambda_i $$\n",
    "\n",
    "Because $\\lambda$ is only 0 or 1, the sum counts the number of dimensions preserved by the transformation. Then, for a projection matrix $Q$:\n",
    "\n",
    "$$ rank(Q) = Tr(Q) $$\n",
    "\n",
    "We can further work with the spectral decomposition:\n",
    "\n",
    "$$  Q = V \\Lambda V^{T}  $$\n",
    "\n",
    "If $Tr(Q)=r$, this means there are $r$ eigenvalues equal to 1, the rest are 0. The spectral decomposition can be rewritten to ignore the columns of the eigenvector matrix that are going to be cancelled by the null eigenvalues. \n",
    "\n",
    "Let $V_r$ be the $n\\times r$ matrix that has as columns the $r$ eigenvectors associated with eigenvalues equal to 1:\n",
    "\n",
    "$$ Q =V \\Lambda V^{T} = V_r \\Lambda_r V_r^T =  V_r I_r V_r^T =  V_r V_r^T$$\n",
    "\n",
    "***\n",
    "**Conclusion:**\n",
    "\n",
    "A projection matrix $Q$ with $rank(Q)=r$ can be decomposed as:\n",
    "$$ Q = VV^T $$\n",
    "Where $V$ is a $n \\times r $ matrix. "
   ]
  },
  {
   "cell_type": "markdown",
   "id": "6e44045a",
   "metadata": {},
   "source": [
    "### 2. Example: mean deviation ###"
   ]
  },
  {
   "cell_type": "markdown",
   "id": "25d8743f",
   "metadata": {},
   "source": [
    "Consider a vector $y_{n\\times 1} $, and let $i_{n\\times 1}$ represent a $n \\times 1$ vector of ones. \n",
    "\n",
    "The mean of the vector is calculated as:\n",
    "$$ \\bar{y} = \\frac{i^T y}{n} = \\frac{i^T y}{i^Ti} , \\quad \\text{where $ i^Ti = n$} $$\n",
    "\n",
    "The vector containing $\\bar{y}$ in all of its entries is created scaling a vector of ones:\n",
    "\n",
    "$$ \\bar{y}_{n \\times 1} = \\frac{i^T y}{i^Ti} i $$\n",
    "\n",
    "This result represents a **projection** of $y$ onto the unit vector $i$\n",
    "\n"
   ]
  },
  {
   "cell_type": "code",
   "execution_count": 31,
   "id": "fbee49bd",
   "metadata": {},
   "outputs": [
    {
     "data": {
      "image/png": "[encoded data removed]",
      "text/plain": [
       "<Figure size 400x400 with 1 Axes>"
      ]
     },
     "metadata": {},
     "output_type": "display_data"
    }
   ],
   "source": [
    "import matplotlib.pyplot as plt\n",
    "import numpy as np\n",
    "\n",
    "# Define vectors\n",
    "a = np.array([1, 1])  # Vector to project onto\n",
    "y = np.array([2, 5])  # Vector being projected\n",
    "\n",
    "# Calculate projection of y onto a\n",
    "proj_y_onto_a = (np.dot(y, a) / np.dot(a, a)) * a\n",
    "\n",
    "# Adjusting text labels to be at the end of the quivers and adding a label for the red vector\n",
    "\n",
    "plt.figure(figsize=(4, 4))\n",
    "plt.quiver(0, 0, a[0], a[1], angles='xy', scale_units='xy', scale=1, color='r')\n",
    "plt.quiver(0, 0, y[0], y[1], angles='xy', scale_units='xy', scale=1, color='g')\n",
    "plt.quiver(0, 0, proj_y_onto_a[0], proj_y_onto_a[1], angles='xy', scale_units='xy', scale=1, color='b')\n",
    "plt.text(a[0], a[1], '$i$', color='red', fontsize=12, ha='right', va='bottom')\n",
    "plt.text(y[0], y[1], '$\\mathbf{y}$', color='green', fontsize=12, ha='left', va='bottom')\n",
    "plt.text(proj_y_onto_a[0], proj_y_onto_a[1], '$\\mathbf{\\overline{y}}$', color='blue', fontsize=12, ha='right', va='bottom')\n",
    "plt.xlim(-1, max(a[0], y[0], proj_y_onto_a[0]) + 1)\n",
    "plt.ylim(-1, max(a[1], y[1], proj_y_onto_a[1]) + 1)\n",
    "plt.gca().set_aspect('equal', adjustable='box')\n",
    "plt.axhline(0, color='black',linewidth=0.5)\n",
    "plt.axvline(0, color='black',linewidth=0.5)\n",
    "plt.grid(color = 'gray', linestyle = '--', linewidth = 0.5)\n",
    "plt.show()\n",
    "\n"
   ]
  },
  {
   "cell_type": "markdown",
   "id": "47a6841a",
   "metadata": {},
   "source": [
    "We can express this projection as a transformation of y \n",
    "$$ \\bar{y}_{n \\times 1} = \\frac{i^T y}{i^Ti} i =\\frac{ii^T}{i^Ti}y = Hy, \\quad \\text{where $ H = \\frac{ii^T}{i^Ti} $}$$\n",
    "\n",
    "\n",
    "\n",
    "The projection matrix $H$ has $rank(H) = Tr(H) = 1$"
   ]
  },
  {
   "cell_type": "code",
   "execution_count": 28,
   "id": "53e16d9a",
   "metadata": {},
   "outputs": [
    {
     "name": "stdout",
     "output_type": "stream",
     "text": [
      "Matrix H\n",
      "[[0.25 0.25 0.25 0.25]\n",
      " [0.25 0.25 0.25 0.25]\n",
      " [0.25 0.25 0.25 0.25]\n",
      " [0.25 0.25 0.25 0.25]]\n",
      "\n",
      "Eigenvalues\n",
      "[-2.31899458e-16 -6.75372646e-17 -9.54612880e-18  1.00000000e+00]\n",
      "\n",
      "Eigenvectors\n",
      "[[-0.83988259 -0.20867354  0.03244359  0.5       ]\n",
      " [ 0.47876584 -0.70485939  0.15477893  0.5       ]\n",
      " [ 0.18998848  0.31123746 -0.78551615  0.5       ]\n",
      " [ 0.17112828  0.60229547  0.59829364  0.5       ]]\n"
     ]
    }
   ],
   "source": [
    "import numpy as np\n",
    "\n",
    "n = 4  # For a vector of ones with size 4 x 1\n",
    "\n",
    "# Create vector 'i' of ones with size n x 1\n",
    "i = np.ones((n, 1))\n",
    "\n",
    "# Calculate matrix H\n",
    "H = (i @ i.T) / (i.T @ i)\n",
    "\n",
    "# Perform spectral decomposition\n",
    "# Since H is a symmetric matrix, the spectral decomposition is given by its eigendecomposition\n",
    "eigenvalues, eigenvectors = np.linalg.eigh(H)\n",
    "\n",
    "print(\"Matrix H\")\n",
    "print(H)\n",
    "\n",
    "print(\"\\nEigenvalues\")\n",
    "print(eigenvalues)\n",
    "\n",
    "print(\"\\nEigenvectors\")\n",
    "print(eigenvectors)"
   ]
  },
  {
   "cell_type": "markdown",
   "id": "60e406d8",
   "metadata": {},
   "source": [
    "Note that the mean-deviated vector is constructed as\n",
    "\n",
    "$$ y_{n \\times 1} - \\bar{y}_{n \\times 1} = y - Hy = My, \\quad\\text{ where $M = I - H$} $$ "
   ]
  },
  {
   "cell_type": "code",
   "execution_count": 40,
   "id": "f44787a3",
   "metadata": {},
   "outputs": [
    {
     "name": "stdout",
     "output_type": "stream",
     "text": [
      "M\n",
      "[[0.75 0.75 0.75 0.75]\n",
      " [0.75 0.75 0.75 0.75]\n",
      " [0.75 0.75 0.75 0.75]\n",
      " [0.75 0.75 0.75 0.75]]\n",
      "\n",
      "M transposed\n",
      "[[0.75 0.75 0.75 0.75]\n",
      " [0.75 0.75 0.75 0.75]\n",
      " [0.75 0.75 0.75 0.75]\n",
      " [0.75 0.75 0.75 0.75]]\n",
      "\n",
      "M@M\n",
      "[[2.25 2.25 2.25 2.25]\n",
      " [2.25 2.25 2.25 2.25]\n",
      " [2.25 2.25 2.25 2.25]\n",
      " [2.25 2.25 2.25 2.25]]\n",
      "\n",
      "n\n",
      "4\n",
      "\n",
      "Trace of M\n",
      "3.0\n"
     ]
    }
   ],
   "source": [
    "M = np.ones(n) - H\n",
    "print(\"M\")\n",
    "print(M)\n",
    "\n",
    "print(\"\\nM transposed\")\n",
    "print(M.T)\n",
    "\n",
    "print(\"\\nM@M\")\n",
    "print(M@M)\n",
    "\n",
    "print(\"\\nn\")\n",
    "print(n)\n",
    "\n",
    "print(\"\\nTrace of M\")\n",
    "print(np.trace(M))"
   ]
  },
  {
   "cell_type": "code",
   "execution_count": null,
   "id": "aaea548e",
   "metadata": {},
   "outputs": [],
   "source": []
  }
 ],
 "metadata": {
  "kernelspec": {
   "display_name": "Python 3 (ipykernel)",
   "language": "python",
   "name": "python3"
  },
  "language_info": {
   "codemirror_mode": {
    "name": "ipython",
    "version": 3
   },
   "file_extension": ".py",
   "mimetype": "text/x-python",
   "name": "python",
   "nbconvert_exporter": "python",
   "pygments_lexer": "ipython3",
   "version": "3.11.5"
  }
 },
 "nbformat": 4,
 "nbformat_minor": 5
}
