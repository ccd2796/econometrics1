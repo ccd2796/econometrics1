{
 "cells": [
  {
   "cell_type": "markdown",
   "id": "3157193b",
   "metadata": {},
   "source": [
    "### Random regressors ###"
   ]
  },
  {
   "cell_type": "markdown",
   "id": "d4d60919",
   "metadata": {},
   "source": [
    "The assumption $A1$ established that $X$ is fixed. When this does't happen, the statistical properties of $b$ will change.\n",
    "\n",
    "***\n",
    "\n",
    "**First solution**: Conditioning on $X$:\n",
    "\n",
    "If we the change the assumptions on the error by independence of $X$ and $\\epsilon$, the results for $b$ work as before when $X$ wasn't random. The caveat is that it depends on the particular sample $X$ drawn, so this is actually not a solution.\n",
    "\n",
    "$$ E[\\epsilon | X] = 0 \\quad \\text{and} \\quad var(\\epsilon | X) = \\sigma^2I $$\n",
    "\n",
    "Leads to:\n",
    "\n",
    "$$ E[b|X] = \\beta \\quad \\text{and} \\quad  var(b|X) = \\sigma^2(X^TX)^{-1}  $$\n",
    "\n",
    "Unconditional on $X$ (but assuming independence with $\\epsilon$), the properties of $b$ when $X$ is random are:\n",
    "\n",
    "$$ E[b] = \\beta \\quad \\text{and} \\quad  var(b) = \\sigma^2E[(X^TX)^{-1}]  $$\n",
    "\n",
    "The variance of $b$ is random and it depends on $X$. If $E[(X^TX)^{-1}]$ is not known, testing stops working.\n",
    "\n",
    "***\n",
    "\n",
    "**Second solution**: Large numbers: Replaces assumption $A1$ fixed regressors by $A1^*$: stable regresors, this means we will assume that $X$ is random, but $plim (\\frac{1}{n}X^TX) = Q $ exists (**new assumption** $A1^*$). Then, $plim (b)$ is $ \\beta $ \n",
    "\n",
    "$$ plim(b) = \\beta + Q^{-1} plim \\Big(\\frac{1}{n}X^T\\epsilon\\Big)$$\n",
    "\n",
    "Only if $plim (\\frac{1}{n}X^T\\epsilon) = 0 $, which is the orthogonality or exogenous condition (**new assumption**). Under these assumptions, it also holds that $plim(s^2) = \\sigma^2$ for the residuals.\n",
    "\n",
    "Note that $b$ will not be consistent ($plim(b) \\neq \\beta$) if $X$ and $\\epsilon$ are not related.\n",
    "\n",
    "With the new assumptions, check the slides for the proof that it is possible to conclude that:\n",
    "\n",
    "$$ b \\approx N(\\beta, \\sigma^2(X^TX)^{-1})  $$\n",
    "\n",
    "**And we can use our usual tests.**\n"
   ]
  },
  {
   "cell_type": "code",
   "execution_count": null,
   "id": "8ff7b748",
   "metadata": {},
   "outputs": [],
   "source": []
  }
 ],
 "metadata": {
  "kernelspec": {
   "display_name": "Python 3 (ipykernel)",
   "language": "python",
   "name": "python3"
  },
  "language_info": {
   "codemirror_mode": {
    "name": "ipython",
    "version": 3
   },
   "file_extension": ".py",
   "mimetype": "text/x-python",
   "name": "python",
   "nbconvert_exporter": "python",
   "pygments_lexer": "ipython3",
   "version": "3.11.5"
  }
 },
 "nbformat": 4,
 "nbformat_minor": 5
}
