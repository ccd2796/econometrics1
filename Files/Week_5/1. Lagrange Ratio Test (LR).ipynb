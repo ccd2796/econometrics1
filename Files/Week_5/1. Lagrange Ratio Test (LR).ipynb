{
 "cells": [
  {
   "cell_type": "markdown",
   "id": "7c346ab2",
   "metadata": {},
   "source": [
    "### 1. LR Test ###"
   ]
  },
  {
   "cell_type": "markdown",
   "id": "31d62731",
   "metadata": {},
   "source": [
    "The first of the 3 tests is the LR Test. This evaluates the loss of likelihood for imposing restrictions.\n",
    "\n",
    "The loss in likelihood under the null hypothesis $H_0 : \\theta = \\theta_0$ with respect to the maximum likelihood is\n",
    "\n",
    "$$\\Lambda = \\frac{L(\\theta_0)}{L(\\theta_{ML})}$$\n",
    "\n",
    "By Wilk's Theorem, it can be proved that under the null, the test statistic $LR = -2\\log(\\Lambda)$ converges in distribution to a Chi squared.\n",
    "\n",
    "$$LR = -2\\log(\\Lambda)  \\overset{d}{\\to} \\chi^2(g)$$\n",
    "\n",
    "Where $g$ is the number of restrictions imposed.\n"
   ]
  },
  {
   "cell_type": "markdown",
   "id": "9bbf644c",
   "metadata": {},
   "source": [
    "### LR Test in linear model ###"
   ]
  },
  {
   "cell_type": "markdown",
   "id": "21af17b3",
   "metadata": {},
   "source": [
    "When we are testing a linear model, there is a connection between this test and the previously derived $F$ test\n",
    "\n",
    "From the book:\n",
    "\n",
    "<blockquote>The relation between this test and the $F$-test is given by\n",
    "\n",
    "$$LR = n\\log \\left( 1 + \\frac{e_R'e_R- e'e}{e'e}  \\right) = n\\log \\left( 1 + \\frac{g}{n-k} F \\right)$$\n",
    "</blockquote>\n",
    "\n"
   ]
  },
  {
   "cell_type": "code",
   "execution_count": null,
   "id": "0e758170",
   "metadata": {},
   "outputs": [],
   "source": []
  }
 ],
 "metadata": {
  "kernelspec": {
   "display_name": "Python 3 (ipykernel)",
   "language": "python",
   "name": "python3"
  },
  "language_info": {
   "codemirror_mode": {
    "name": "ipython",
    "version": 3
   },
   "file_extension": ".py",
   "mimetype": "text/x-python",
   "name": "python",
   "nbconvert_exporter": "python",
   "pygments_lexer": "ipython3",
   "version": "3.11.5"
  }
 },
 "nbformat": 4,
 "nbformat_minor": 5
}
