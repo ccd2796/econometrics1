{
 "cells": [
  {
   "cell_type": "markdown",
   "id": "bc790d62",
   "metadata": {},
   "source": [
    "### 1. Statistical properties of b ###"
   ]
  },
  {
   "cell_type": "markdown",
   "id": "bb0102bb",
   "metadata": {},
   "source": [
    "The estimator $b$ is a random variable. What can we say about its properties? (note the use of $\\stackrel{\\text{A*}}{=}$ to highlight the assumption used)\n",
    "\n",
    "$$b = (X^TX)^{-1}X^Ty \\stackrel{\\text{A6}}{=} (X^TX)^{-1}X^T( X\\beta  + \\epsilon) = \\beta + (X^TX)^{-1}X^T\\epsilon $$\n",
    "\n",
    "**Expectation:**\n",
    "\n",
    "$$ E[b] = \\beta + E[(X^TX)^{-1}X^T\\epsilon] \\stackrel{\\text{A1}}{=} \\beta + (X^TX)^{-1}X^TE[\\epsilon]  \\stackrel{\\text{A2}}{=} \\beta   $$\n",
    "\n",
    "Under assumptions, $b$ is unbiased.\n",
    "\n",
    "\n",
    "**Variance:**\n",
    "\n",
    "$$ Var(b) = E[(b-E[b])(b-E[b])^T] = E[(b-\\beta)(b-\\beta)^T] = E[ (X^TX)^{-1}X^T\\epsilon \\epsilon^T X (X^TX)^{-1}]  $$\n",
    "\n",
    "$$E[ (X^TX)^{-1}X^T\\epsilon \\epsilon^T X (X^TX)^{-1}]  \\stackrel{\\text{A1}}{=}  (X^TX)^{-1}X^TE[\\epsilon \\epsilon^T] X (X^TX)^{-1} $$\n",
    "\n",
    "$$ (X^TX)^{-1}X^TE[\\epsilon \\epsilon^T] X (X^TX)^{-1}  \\stackrel{\\text{A3,A4}}{=}  \\sigma^2(X^TX)^{-1}  $$\n",
    "\n",
    "Under assumptions, variance of $b$ is.\n",
    "\n",
    "$$ Var(b) = \\sigma^2(X^TX)^{-1} $$\n",
    "\n",
    "The diagonal elements contain the variance of the estimators $b_j$, and the off diagonal represent the covariance between estimators.\n"
   ]
  },
  {
   "cell_type": "markdown",
   "id": "41acd4f3",
   "metadata": {},
   "source": [
    "### 2. T-statistic ###"
   ]
  },
  {
   "cell_type": "markdown",
   "id": "6cfd42e3",
   "metadata": {},
   "source": [
    "In order to make hypothesis testing, or calculating confidence intervals, we need to find a pivotal quantity for the mean of $b$. This will be possible if we notice that under assumptions 1-7:\n",
    "\n",
    "$$b = \\beta + (X^TX)^{-1}X^T\\epsilon \\quad \\text{, where $\\epsilon \\sim N_n(0, \\sigma^2I_n)$}$$\n",
    "\n",
    "$$b - \\beta =  (X^TX)^{-1}X^T\\epsilon \\sim N_k(0, \\sigma^2(X^TX)^{-1})$$\n",
    "\n",
    "$$b - \\beta   \\sim N_k(0, \\sigma^2(X^TX)^{-1}) = N_k(0, Var(b)) $$\n",
    "\n",
    "For a particular element of the vector $b_j$ and for $Var(b_j) = \\sigma^2 [(X^TX)^{-1}]_{jj} =  \\sigma^2 B_{jj}$\n",
    "\n",
    "$$b_j - \\beta_j   \\sim N(0, \\sigma^2 B_{jj})$$\n",
    "\n",
    "$$\\frac{b_j - \\beta_j}{\\sigma \\sqrt{B_{jj}} }   \\sim N(0, 1)$$\n",
    "\n",
    "We would construct our intervals and tests with this using the $N(0,1)$ distribution, but notice that this is not yet a pivotal quantity, because there is an unknown $\\sigma$ parameter. To solve this, we will divide by a rescaled Chi squared random variable, which results in a $T$ random variable.\n",
    "\n",
    "For a $N \\sim N(0,1)$ normal random variable and a $X \\sim \\chi^2(k)$ Chi squared random variable:\n",
    "\n",
    "$$ T(k) = \\frac{N}{\\sqrt{X/k}} \\quad \\text{, a $T$ random variable with $k$ degrees of freedom} $$\n",
    "\n",
    "We will use $\\frac{e^Te}{\\sigma^2}$ , which we know from previous results that follows a $ \\chi^2(n-k)$ distribution. Then $\\frac{e^Te}{\\sigma^2}\\times \\frac{1}{n-k} = \\frac{s^2}{\\sigma^2} $. Taking square root and dividing:\n",
    "\n",
    "$$ \\frac{b_j - \\beta_j}{\\sigma \\sqrt{B_{jj}} } \\times \\frac{\\sigma}{s}  = \\frac{b_j - \\beta_j}{s \\sqrt{B_{jj}} } \\sim T(n-k) $$\n",
    "\n",
    "Which is the pivotal quantity that we will use for testing and confidence intervals"
   ]
  },
  {
   "cell_type": "code",
   "execution_count": null,
   "id": "e278079f",
   "metadata": {},
   "outputs": [],
   "source": []
  }
 ],
 "metadata": {
  "kernelspec": {
   "display_name": "Python 3 (ipykernel)",
   "language": "python",
   "name": "python3"
  },
  "language_info": {
   "codemirror_mode": {
    "name": "ipython",
    "version": 3
   },
   "file_extension": ".py",
   "mimetype": "text/x-python",
   "name": "python",
   "nbconvert_exporter": "python",
   "pygments_lexer": "ipython3",
   "version": "3.11.5"
  }
 },
 "nbformat": 4,
 "nbformat_minor": 5
}
