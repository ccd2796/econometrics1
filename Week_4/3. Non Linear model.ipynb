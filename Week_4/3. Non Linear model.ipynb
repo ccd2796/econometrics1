{
 "cells": [
  {
   "cell_type": "markdown",
   "id": "1cbc63f9",
   "metadata": {},
   "source": [
    "### Non linear models ###"
   ]
  },
  {
   "cell_type": "markdown",
   "id": "8338a362",
   "metadata": {},
   "source": [
    "Constant elasticity:\n",
    "\n",
    "$$ \\log(q) = \\beta_1 + \\beta_2 \\log(d) + \\epsilon \\quad \\text{elasticity: $\\beta_2$}$$\n",
    "\n",
    "Non-constant elasticity (becomes constant when $\\beta_3 \\to 0$):\n",
    "\n",
    "$$ \\log(q) = \\beta_1 + \\frac{\\beta_2}{\\beta_3}(d^{\\beta_3} - 1) + \\epsilon \\quad \\text{elasticity: $\\beta_2d^{\\beta_3}$} $$\n",
    "\n",
    "Non linear regression: When the model is not linear in the parameters. This changes $A6$ to $A6^{*}$\n",
    "\n",
    "$$ y_i = f(x_i, \\beta) + \\epsilon_i $$\n",
    "\n",
    "The criterion function becomes\n",
    "\n",
    "$$ S(\\beta) = \\sum_n (y_i - f(x_i, \\beta))^2 $$\n",
    "\n",
    "$$ \\frac{\\partial S(\\beta)}{\\partial \\beta} = -2\\sum_n (y_i - f(x_i, \\beta))^2 \\frac{\\partial f(x_i, \\beta)}{\\partial \\beta} = 0$$\n",
    "\n",
    "There must be a condition of \"identifiable parameters\", this means that minimum of $S(\\beta)$ needs to be unique, and this doens't happen if there are multiple combinations of $\\beta$ that yield the same $f$ (think about convex and strictly convex functions).\n",
    "\n",
    "\n"
   ]
  },
  {
   "cell_type": "code",
   "execution_count": null,
   "id": "33d5a81c",
   "metadata": {},
   "outputs": [],
   "source": []
  },
  {
   "cell_type": "code",
   "execution_count": null,
   "id": "c5f6e828",
   "metadata": {},
   "outputs": [],
   "source": []
  }
 ],
 "metadata": {
  "kernelspec": {
   "display_name": "Python 3 (ipykernel)",
   "language": "python",
   "name": "python3"
  },
  "language_info": {
   "codemirror_mode": {
    "name": "ipython",
    "version": 3
   },
   "file_extension": ".py",
   "mimetype": "text/x-python",
   "name": "python",
   "nbconvert_exporter": "python",
   "pygments_lexer": "ipython3",
   "version": "3.11.5"
  }
 },
 "nbformat": 4,
 "nbformat_minor": 5
}
