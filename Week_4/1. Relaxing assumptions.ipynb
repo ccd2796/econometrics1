{
 "cells": [
  {
   "cell_type": "markdown",
   "id": "c94c458f",
   "metadata": {},
   "source": [
    "### Changing assumptions ###"
   ]
  },
  {
   "cell_type": "markdown",
   "id": "8124dd5b",
   "metadata": {},
   "source": [
    "The idea of this section is to evaluate what happens to our models when:\n",
    "\n",
    "- The regressors $X$ are random.\n",
    "- The disturbances $\\epsilon$ are non-normal.\n",
    "- The model is not linear"
   ]
  },
  {
   "cell_type": "code",
   "execution_count": null,
   "id": "03af0b62",
   "metadata": {},
   "outputs": [],
   "source": []
  }
 ],
 "metadata": {
  "kernelspec": {
   "display_name": "Python 3 (ipykernel)",
   "language": "python",
   "name": "python3"
  },
  "language_info": {
   "codemirror_mode": {
    "name": "ipython",
    "version": 3
   },
   "file_extension": ".py",
   "mimetype": "text/x-python",
   "name": "python",
   "nbconvert_exporter": "python",
   "pygments_lexer": "ipython3",
   "version": "3.11.5"
  }
 },
 "nbformat": 4,
 "nbformat_minor": 5
}
